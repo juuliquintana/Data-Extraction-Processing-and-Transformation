{
 "cells": [
  {
   "cell_type": "markdown",
   "metadata": {},
   "source": [
    "## *Beijing air quality* [dataset](https://archive.ics.uci.edu/ml/machine-learning-databases/00501/PRSA2017_Data_20130301-20170228.zip)"
   ]
  },
  {
   "cell_type": "code",
   "execution_count": 1,
   "metadata": {},
   "outputs": [],
   "source": [
    "# import the necessary packages\n",
    "import requests\n",
    "import zipfile # to unzip the files\n",
    "import io\n",
    "import os\n",
    "import pandas as pd"
   ]
  },
  {
   "cell_type": "code",
   "execution_count": 2,
   "metadata": {},
   "outputs": [],
   "source": [
    "# the next URL contains the data we are going to use in this example\n",
    "URL = 'https://archive.ics.uci.edu/ml/machine-learning-databases/00501/PRSA2017_Data_20130301-20170228.zip'\n",
    "\n",
    "# create the folder where we are going to store the data\n",
    "os.makedirs('./beijing', exist_ok=True)\n",
    "\n",
    "# download the data\n",
    "response = requests.get(URL)\n",
    "\n",
    "# create a zip file object\n",
    "zip = zipfile.ZipFile(io.BytesIO(response.content))\n",
    "\n",
    "# extract all the files in the zip file\n",
    "zip.extractall('./beijing')"
   ]
  },
  {
   "cell_type": "code",
   "execution_count": 3,
   "metadata": {},
   "outputs": [],
   "source": [
    "# create an empty DataFrame\n",
    "df = pd.DataFrame()\n",
    "\n",
    "# itinerate over the giles in the beijing folder and read them with pandas\n",
    "for file in os.listdir('./beijing/PRSA_Data_20130301-20170228'):\n",
    "    if file.endswith('.csv'):\n",
    "        df = pd.concat([df, pd.read_csv('./beijing/PRSA_Data_20130301-20170228/' + file)])\n"
   ]
  },
  {
   "cell_type": "code",
   "execution_count": 4,
   "metadata": {},
   "outputs": [
    {
     "data": {
      "text/html": [
       "<div>\n",
       "<style scoped>\n",
       "    .dataframe tbody tr th:only-of-type {\n",
       "        vertical-align: middle;\n",
       "    }\n",
       "\n",
       "    .dataframe tbody tr th {\n",
       "        vertical-align: top;\n",
       "    }\n",
       "\n",
       "    .dataframe thead th {\n",
       "        text-align: right;\n",
       "    }\n",
       "</style>\n",
       "<table border=\"1\" class=\"dataframe\">\n",
       "  <thead>\n",
       "    <tr style=\"text-align: right;\">\n",
       "      <th></th>\n",
       "      <th>No</th>\n",
       "      <th>year</th>\n",
       "      <th>month</th>\n",
       "      <th>day</th>\n",
       "      <th>hour</th>\n",
       "      <th>PM2.5</th>\n",
       "      <th>PM10</th>\n",
       "      <th>SO2</th>\n",
       "      <th>NO2</th>\n",
       "      <th>CO</th>\n",
       "      <th>O3</th>\n",
       "      <th>TEMP</th>\n",
       "      <th>PRES</th>\n",
       "      <th>DEWP</th>\n",
       "      <th>RAIN</th>\n",
       "      <th>wd</th>\n",
       "      <th>WSPM</th>\n",
       "      <th>station</th>\n",
       "    </tr>\n",
       "  </thead>\n",
       "  <tbody>\n",
       "    <tr>\n",
       "      <th>0</th>\n",
       "      <td>1</td>\n",
       "      <td>2013</td>\n",
       "      <td>3</td>\n",
       "      <td>1</td>\n",
       "      <td>0</td>\n",
       "      <td>4.0</td>\n",
       "      <td>4.0</td>\n",
       "      <td>4.0</td>\n",
       "      <td>7.0</td>\n",
       "      <td>300.0</td>\n",
       "      <td>77.0</td>\n",
       "      <td>-0.7</td>\n",
       "      <td>1023.0</td>\n",
       "      <td>-18.8</td>\n",
       "      <td>0.0</td>\n",
       "      <td>NNW</td>\n",
       "      <td>4.4</td>\n",
       "      <td>Aotizhongxin</td>\n",
       "    </tr>\n",
       "    <tr>\n",
       "      <th>1</th>\n",
       "      <td>2</td>\n",
       "      <td>2013</td>\n",
       "      <td>3</td>\n",
       "      <td>1</td>\n",
       "      <td>1</td>\n",
       "      <td>8.0</td>\n",
       "      <td>8.0</td>\n",
       "      <td>4.0</td>\n",
       "      <td>7.0</td>\n",
       "      <td>300.0</td>\n",
       "      <td>77.0</td>\n",
       "      <td>-1.1</td>\n",
       "      <td>1023.2</td>\n",
       "      <td>-18.2</td>\n",
       "      <td>0.0</td>\n",
       "      <td>N</td>\n",
       "      <td>4.7</td>\n",
       "      <td>Aotizhongxin</td>\n",
       "    </tr>\n",
       "    <tr>\n",
       "      <th>2</th>\n",
       "      <td>3</td>\n",
       "      <td>2013</td>\n",
       "      <td>3</td>\n",
       "      <td>1</td>\n",
       "      <td>2</td>\n",
       "      <td>7.0</td>\n",
       "      <td>7.0</td>\n",
       "      <td>5.0</td>\n",
       "      <td>10.0</td>\n",
       "      <td>300.0</td>\n",
       "      <td>73.0</td>\n",
       "      <td>-1.1</td>\n",
       "      <td>1023.5</td>\n",
       "      <td>-18.2</td>\n",
       "      <td>0.0</td>\n",
       "      <td>NNW</td>\n",
       "      <td>5.6</td>\n",
       "      <td>Aotizhongxin</td>\n",
       "    </tr>\n",
       "    <tr>\n",
       "      <th>3</th>\n",
       "      <td>4</td>\n",
       "      <td>2013</td>\n",
       "      <td>3</td>\n",
       "      <td>1</td>\n",
       "      <td>3</td>\n",
       "      <td>6.0</td>\n",
       "      <td>6.0</td>\n",
       "      <td>11.0</td>\n",
       "      <td>11.0</td>\n",
       "      <td>300.0</td>\n",
       "      <td>72.0</td>\n",
       "      <td>-1.4</td>\n",
       "      <td>1024.5</td>\n",
       "      <td>-19.4</td>\n",
       "      <td>0.0</td>\n",
       "      <td>NW</td>\n",
       "      <td>3.1</td>\n",
       "      <td>Aotizhongxin</td>\n",
       "    </tr>\n",
       "    <tr>\n",
       "      <th>4</th>\n",
       "      <td>5</td>\n",
       "      <td>2013</td>\n",
       "      <td>3</td>\n",
       "      <td>1</td>\n",
       "      <td>4</td>\n",
       "      <td>3.0</td>\n",
       "      <td>3.0</td>\n",
       "      <td>12.0</td>\n",
       "      <td>12.0</td>\n",
       "      <td>300.0</td>\n",
       "      <td>72.0</td>\n",
       "      <td>-2.0</td>\n",
       "      <td>1025.2</td>\n",
       "      <td>-19.5</td>\n",
       "      <td>0.0</td>\n",
       "      <td>N</td>\n",
       "      <td>2.0</td>\n",
       "      <td>Aotizhongxin</td>\n",
       "    </tr>\n",
       "  </tbody>\n",
       "</table>\n",
       "</div>"
      ],
      "text/plain": [
       "   No  year  month  day  hour  PM2.5  PM10   SO2   NO2     CO    O3  TEMP  \\\n",
       "0   1  2013      3    1     0    4.0   4.0   4.0   7.0  300.0  77.0  -0.7   \n",
       "1   2  2013      3    1     1    8.0   8.0   4.0   7.0  300.0  77.0  -1.1   \n",
       "2   3  2013      3    1     2    7.0   7.0   5.0  10.0  300.0  73.0  -1.1   \n",
       "3   4  2013      3    1     3    6.0   6.0  11.0  11.0  300.0  72.0  -1.4   \n",
       "4   5  2013      3    1     4    3.0   3.0  12.0  12.0  300.0  72.0  -2.0   \n",
       "\n",
       "     PRES  DEWP  RAIN   wd  WSPM       station  \n",
       "0  1023.0 -18.8   0.0  NNW   4.4  Aotizhongxin  \n",
       "1  1023.2 -18.2   0.0    N   4.7  Aotizhongxin  \n",
       "2  1023.5 -18.2   0.0  NNW   5.6  Aotizhongxin  \n",
       "3  1024.5 -19.4   0.0   NW   3.1  Aotizhongxin  \n",
       "4  1025.2 -19.5   0.0    N   2.0  Aotizhongxin  "
      ]
     },
     "execution_count": 4,
     "metadata": {},
     "output_type": "execute_result"
    }
   ],
   "source": [
    "df.head()"
   ]
  },
  {
   "cell_type": "code",
   "execution_count": 4,
   "metadata": {},
   "outputs": [
    {
     "data": {
      "text/plain": [
       "No           int64\n",
       "year         int64\n",
       "month        int64\n",
       "day          int64\n",
       "hour         int64\n",
       "PM2.5      float64\n",
       "PM10       float64\n",
       "SO2        float64\n",
       "NO2        float64\n",
       "CO         float64\n",
       "O3         float64\n",
       "TEMP       float64\n",
       "PRES       float64\n",
       "DEWP       float64\n",
       "RAIN       float64\n",
       "wd          object\n",
       "WSPM       float64\n",
       "station     object\n",
       "dtype: object"
      ]
     },
     "execution_count": 4,
     "metadata": {},
     "output_type": "execute_result"
    }
   ],
   "source": [
    "# check the data types of the columns\n",
    "df.dtypes"
   ]
  },
  {
   "cell_type": "code",
   "execution_count": 5,
   "metadata": {},
   "outputs": [
    {
     "data": {
      "text/plain": [
       "No             0\n",
       "year           0\n",
       "month          0\n",
       "day            0\n",
       "hour           0\n",
       "PM2.5       8739\n",
       "PM10        6449\n",
       "SO2         9021\n",
       "NO2        12116\n",
       "CO         20701\n",
       "O3         13277\n",
       "TEMP         398\n",
       "PRES         393\n",
       "DEWP         403\n",
       "RAIN         390\n",
       "wd          1822\n",
       "WSPM         318\n",
       "station        0\n",
       "dtype: int64"
      ]
     },
     "execution_count": 5,
     "metadata": {},
     "output_type": "execute_result"
    }
   ],
   "source": [
    "# check the number of missing values in each column\n",
    "df.isnull().sum()"
   ]
  },
  {
   "cell_type": "code",
   "execution_count": 6,
   "metadata": {},
   "outputs": [
    {
     "data": {
      "text/plain": [
       "No         0.000000\n",
       "year       0.000000\n",
       "month      0.000000\n",
       "day        0.000000\n",
       "hour       0.000000\n",
       "PM2.5      2.076916\n",
       "PM10       1.532674\n",
       "SO2        2.143937\n",
       "NO2        2.879497\n",
       "CO         4.919813\n",
       "O3         3.155421\n",
       "TEMP       0.094589\n",
       "PRES       0.093401\n",
       "DEWP       0.095777\n",
       "RAIN       0.092688\n",
       "wd         0.433018\n",
       "WSPM       0.075576\n",
       "station    0.000000\n",
       "dtype: float64"
      ]
     },
     "execution_count": 6,
     "metadata": {},
     "output_type": "execute_result"
    }
   ],
   "source": [
    "# check the percentage of missing values in each column to decide how to handle them, we can replace them with the mean, median or mode.\n",
    "df.isnull().sum()/len(df)*100"
   ]
  },
  {
   "cell_type": "code",
   "execution_count": 5,
   "metadata": {},
   "outputs": [],
   "source": [
    "# we can see that the missing values are small, we can replace the float by the mean of the column, the int by the median and the objects by the mode with the following function:\n",
    "\n",
    "def impute_missing_values(df):\n",
    "    for col in df.columns:\n",
    "        if df[col].dtype == 'float64':\n",
    "            df[col] = df[col].fillna(df[col].mean())\n",
    "        elif df[col].dtype == 'object':\n",
    "            df[col] = df[col].fillna(df[col].mode()[0])\n",
    "        else:\n",
    "            df[col] = df[col].fillna(df[col].median())\n",
    "    return df\n",
    "\n",
    "df = impute_missing_values(df)"
   ]
  },
  {
   "cell_type": "code",
   "execution_count": 6,
   "metadata": {},
   "outputs": [
    {
     "data": {
      "text/plain": [
       "No         0\n",
       "year       0\n",
       "month      0\n",
       "day        0\n",
       "hour       0\n",
       "PM2.5      0\n",
       "PM10       0\n",
       "SO2        0\n",
       "NO2        0\n",
       "CO         0\n",
       "O3         0\n",
       "TEMP       0\n",
       "PRES       0\n",
       "DEWP       0\n",
       "RAIN       0\n",
       "wd         0\n",
       "WSPM       0\n",
       "station    0\n",
       "dtype: int64"
      ]
     },
     "execution_count": 6,
     "metadata": {},
     "output_type": "execute_result"
    }
   ],
   "source": [
    "# check if there are any missing values left\n",
    "df.isnull().sum()"
   ]
  },
  {
   "cell_type": "code",
   "execution_count": 7,
   "metadata": {},
   "outputs": [
    {
     "data": {
      "text/plain": [
       "0"
      ]
     },
     "execution_count": 7,
     "metadata": {},
     "output_type": "execute_result"
    }
   ],
   "source": [
    "# check if there are any duplicates\n",
    "df.duplicated().sum()"
   ]
  }
 ],
 "metadata": {
  "kernelspec": {
   "display_name": "Python 3",
   "language": "python",
   "name": "python3"
  },
  "language_info": {
   "codemirror_mode": {
    "name": "ipython",
    "version": 3
   },
   "file_extension": ".py",
   "mimetype": "text/x-python",
   "name": "python",
   "nbconvert_exporter": "python",
   "pygments_lexer": "ipython3",
   "version": "3.11.9"
  }
 },
 "nbformat": 4,
 "nbformat_minor": 2
}
