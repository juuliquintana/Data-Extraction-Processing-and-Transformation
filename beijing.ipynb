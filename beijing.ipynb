{
 "cells": [
  {
   "cell_type": "markdown",
   "metadata": {},
   "source": [
    "## *Beijing air quality* [dataset](https://archive.ics.uci.edu/ml/machine-learning-databases/00501/PRSA2017_Data_20130301-20170228.zip)"
   ]
  },
  {
   "cell_type": "code",
   "execution_count": 1,
   "metadata": {},
   "outputs": [],
   "source": [
    "# Importamos librerias necesarias \n",
    "import requests\n",
    "import zipfile # para poder descomprimir el archivo\n",
    "import io\n",
    "import os\n",
    "import pandas as pd"
   ]
  },
  {
   "cell_type": "code",
   "execution_count": 2,
   "metadata": {},
   "outputs": [],
   "source": [
    "# La siguiente es la URL que nos direcciona a los archivos\n",
    "URL = 'https://archive.ics.uci.edu/ml/machine-learning-databases/00501/PRSA2017_Data_20130301-20170228.zip'\n",
    "\n",
    "# Creamos carpeta para guardar los datos\n",
    "os.makedirs('./beijing', exist_ok=True)\n",
    "\n",
    "# Descargamos el archivo\n",
    "response = requests.get(URL)\n",
    "\n",
    "# Creamos un objeto zipfile\n",
    "zip = zipfile.ZipFile(io.BytesIO(response.content))\n",
    "\n",
    "# Extraemos los archivos\n",
    "zip.extractall('./beijing')"
   ]
  },
  {
   "cell_type": "code",
   "execution_count": 3,
   "metadata": {},
   "outputs": [],
   "source": [
    "# Creamos un dataframe vacio\n",
    "df = pd.DataFrame()\n",
    "\n",
    "# Iteramos sobre los archivos de la carpeta beijing y los leemos con pandas\n",
    "for file in os.listdir('./beijing/PRSA_Data_20130301-20170228'):\n",
    "    if file.endswith('.csv'):\n",
    "        df = pd.concat([df, pd.read_csv('./beijing/PRSA_Data_20130301-20170228/' + file)])\n"
   ]
  },
  {
   "cell_type": "code",
   "execution_count": 4,
   "metadata": {},
   "outputs": [
    {
     "data": {
      "text/plain": [
       "No           int64\n",
       "year         int64\n",
       "month        int64\n",
       "day          int64\n",
       "hour         int64\n",
       "PM2.5      float64\n",
       "PM10       float64\n",
       "SO2        float64\n",
       "NO2        float64\n",
       "CO         float64\n",
       "O3         float64\n",
       "TEMP       float64\n",
       "PRES       float64\n",
       "DEWP       float64\n",
       "RAIN       float64\n",
       "wd          object\n",
       "WSPM       float64\n",
       "station     object\n",
       "dtype: object"
      ]
     },
     "execution_count": 4,
     "metadata": {},
     "output_type": "execute_result"
    }
   ],
   "source": [
    "# Vamos a determinar el tipo de dato que tenemos\n",
    "df.dtypes"
   ]
  },
  {
   "cell_type": "code",
   "execution_count": 5,
   "metadata": {},
   "outputs": [
    {
     "data": {
      "text/plain": [
       "No             0\n",
       "year           0\n",
       "month          0\n",
       "day            0\n",
       "hour           0\n",
       "PM2.5       8739\n",
       "PM10        6449\n",
       "SO2         9021\n",
       "NO2        12116\n",
       "CO         20701\n",
       "O3         13277\n",
       "TEMP         398\n",
       "PRES         393\n",
       "DEWP         403\n",
       "RAIN         390\n",
       "wd          1822\n",
       "WSPM         318\n",
       "station        0\n",
       "dtype: int64"
      ]
     },
     "execution_count": 5,
     "metadata": {},
     "output_type": "execute_result"
    }
   ],
   "source": [
    "# Controlamos los datos nulos.\n",
    "df.isnull().sum()"
   ]
  },
  {
   "cell_type": "code",
   "execution_count": 6,
   "metadata": {},
   "outputs": [
    {
     "data": {
      "text/plain": [
       "No         0.000000\n",
       "year       0.000000\n",
       "month      0.000000\n",
       "day        0.000000\n",
       "hour       0.000000\n",
       "PM2.5      2.076916\n",
       "PM10       1.532674\n",
       "SO2        2.143937\n",
       "NO2        2.879497\n",
       "CO         4.919813\n",
       "O3         3.155421\n",
       "TEMP       0.094589\n",
       "PRES       0.093401\n",
       "DEWP       0.095777\n",
       "RAIN       0.092688\n",
       "wd         0.433018\n",
       "WSPM       0.075576\n",
       "station    0.000000\n",
       "dtype: float64"
      ]
     },
     "execution_count": 6,
     "metadata": {},
     "output_type": "execute_result"
    }
   ],
   "source": [
    "# Vemos que porcentaje representan para saber si se pueden remplazar por media, moda y mediana respectivamente.\n",
    "df.isnull().sum()/len(df)*100"
   ]
  },
  {
   "cell_type": "code",
   "execution_count": 7,
   "metadata": {},
   "outputs": [],
   "source": [
    "\n",
    "# Como son pequeños los % de los valores nulos ponemos reemplazar los float, por la media de la columna,\n",
    "# los int por la mediana y los objetos por la moda con la siguiente funcion\n",
    "\n",
    "def impute_missing_values(df):\n",
    "    for col in df.columns:\n",
    "        if df[col].dtype == 'float64':\n",
    "            df[col] = df[col].fillna(df[col].mean())\n",
    "        elif df[col].dtype == 'object':\n",
    "            df[col] = df[col].fillna(df[col].mode()[0])\n",
    "        else:\n",
    "            df[col] = df[col].fillna(df[col].median())\n",
    "    return df\n",
    "\n",
    "df = impute_missing_values(df)"
   ]
  },
  {
   "cell_type": "code",
   "execution_count": 8,
   "metadata": {},
   "outputs": [
    {
     "data": {
      "text/plain": [
       "No         0\n",
       "year       0\n",
       "month      0\n",
       "day        0\n",
       "hour       0\n",
       "PM2.5      0\n",
       "PM10       0\n",
       "SO2        0\n",
       "NO2        0\n",
       "CO         0\n",
       "O3         0\n",
       "TEMP       0\n",
       "PRES       0\n",
       "DEWP       0\n",
       "RAIN       0\n",
       "wd         0\n",
       "WSPM       0\n",
       "station    0\n",
       "dtype: int64"
      ]
     },
     "execution_count": 8,
     "metadata": {},
     "output_type": "execute_result"
    }
   ],
   "source": [
    "# Controlamos que no queden valores nulos\n",
    "df.isnull().sum()"
   ]
  },
  {
   "cell_type": "code",
   "execution_count": 9,
   "metadata": {},
   "outputs": [
    {
     "data": {
      "text/plain": [
       "0"
      ]
     },
     "execution_count": 9,
     "metadata": {},
     "output_type": "execute_result"
    }
   ],
   "source": [
    "# Controlamos si hay valores duplicados\n",
    "df.duplicated().sum()"
   ]
  }
 ],
 "metadata": {
  "kernelspec": {
   "display_name": "Python 3",
   "language": "python",
   "name": "python3"
  },
  "language_info": {
   "codemirror_mode": {
    "name": "ipython",
    "version": 3
   },
   "file_extension": ".py",
   "mimetype": "text/x-python",
   "name": "python",
   "nbconvert_exporter": "python",
   "pygments_lexer": "ipython3",
   "version": "3.11.9"
  }
 },
 "nbformat": 4,
 "nbformat_minor": 2
}
